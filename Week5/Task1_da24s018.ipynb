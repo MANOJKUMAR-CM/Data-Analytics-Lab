{
 "cells": [
  {
   "cell_type": "code",
   "execution_count": 1,
   "id": "648e3a1f",
   "metadata": {},
   "outputs": [],
   "source": [
    "import numpy as np\n",
    "import pandas as pd\n",
    "from sklearn.model_selection import train_test_split, GridSearchCV\n",
    "import matplotlib.pyplot as plt"
   ]
  },
  {
   "cell_type": "code",
   "execution_count": 2,
   "id": "46fda7a1",
   "metadata": {},
   "outputs": [
    {
     "data": {
      "text/html": [
       "<div>\n",
       "<style scoped>\n",
       "    .dataframe tbody tr th:only-of-type {\n",
       "        vertical-align: middle;\n",
       "    }\n",
       "\n",
       "    .dataframe tbody tr th {\n",
       "        vertical-align: top;\n",
       "    }\n",
       "\n",
       "    .dataframe thead th {\n",
       "        text-align: right;\n",
       "    }\n",
       "</style>\n",
       "<table border=\"1\" class=\"dataframe\">\n",
       "  <thead>\n",
       "    <tr style=\"text-align: right;\">\n",
       "      <th></th>\n",
       "      <th>parents</th>\n",
       "      <th>has_nurs</th>\n",
       "      <th>form</th>\n",
       "      <th>children</th>\n",
       "      <th>housing</th>\n",
       "      <th>finance</th>\n",
       "      <th>social</th>\n",
       "      <th>health</th>\n",
       "      <th>class</th>\n",
       "    </tr>\n",
       "  </thead>\n",
       "  <tbody>\n",
       "    <tr>\n",
       "      <th>0</th>\n",
       "      <td>usual</td>\n",
       "      <td>proper</td>\n",
       "      <td>complete</td>\n",
       "      <td>1</td>\n",
       "      <td>convenient</td>\n",
       "      <td>convenient</td>\n",
       "      <td>nonprob</td>\n",
       "      <td>recommended</td>\n",
       "      <td>recommend</td>\n",
       "    </tr>\n",
       "    <tr>\n",
       "      <th>1</th>\n",
       "      <td>usual</td>\n",
       "      <td>proper</td>\n",
       "      <td>complete</td>\n",
       "      <td>1</td>\n",
       "      <td>convenient</td>\n",
       "      <td>convenient</td>\n",
       "      <td>nonprob</td>\n",
       "      <td>priority</td>\n",
       "      <td>priority</td>\n",
       "    </tr>\n",
       "    <tr>\n",
       "      <th>2</th>\n",
       "      <td>usual</td>\n",
       "      <td>proper</td>\n",
       "      <td>complete</td>\n",
       "      <td>1</td>\n",
       "      <td>convenient</td>\n",
       "      <td>convenient</td>\n",
       "      <td>nonprob</td>\n",
       "      <td>not_recom</td>\n",
       "      <td>not_recom</td>\n",
       "    </tr>\n",
       "    <tr>\n",
       "      <th>3</th>\n",
       "      <td>usual</td>\n",
       "      <td>proper</td>\n",
       "      <td>complete</td>\n",
       "      <td>1</td>\n",
       "      <td>convenient</td>\n",
       "      <td>convenient</td>\n",
       "      <td>slightly_prob</td>\n",
       "      <td>recommended</td>\n",
       "      <td>recommend</td>\n",
       "    </tr>\n",
       "    <tr>\n",
       "      <th>4</th>\n",
       "      <td>usual</td>\n",
       "      <td>proper</td>\n",
       "      <td>complete</td>\n",
       "      <td>1</td>\n",
       "      <td>convenient</td>\n",
       "      <td>convenient</td>\n",
       "      <td>slightly_prob</td>\n",
       "      <td>priority</td>\n",
       "      <td>priority</td>\n",
       "    </tr>\n",
       "  </tbody>\n",
       "</table>\n",
       "</div>"
      ],
      "text/plain": [
       "  parents has_nurs      form children     housing     finance         social  \\\n",
       "0   usual   proper  complete        1  convenient  convenient        nonprob   \n",
       "1   usual   proper  complete        1  convenient  convenient        nonprob   \n",
       "2   usual   proper  complete        1  convenient  convenient        nonprob   \n",
       "3   usual   proper  complete        1  convenient  convenient  slightly_prob   \n",
       "4   usual   proper  complete        1  convenient  convenient  slightly_prob   \n",
       "\n",
       "        health      class  \n",
       "0  recommended  recommend  \n",
       "1     priority   priority  \n",
       "2    not_recom  not_recom  \n",
       "3  recommended  recommend  \n",
       "4     priority   priority  "
      ]
     },
     "execution_count": 2,
     "metadata": {},
     "output_type": "execute_result"
    }
   ],
   "source": [
    "data = pd.read_csv(\"C:/Users/MANOJ/Documents/week5/nursery/nursery.data\",names=['parents','has_nurs','form','children','housing','finance','social','health','class'])\n",
    "data.head()"
   ]
  },
  {
   "cell_type": "code",
   "execution_count": 3,
   "id": "0d96456f",
   "metadata": {},
   "outputs": [
    {
     "data": {
      "text/plain": [
       "array(['recommend', 'priority', 'not_recom', 'very_recom', 'spec_prior'],\n",
       "      dtype=object)"
      ]
     },
     "execution_count": 3,
     "metadata": {},
     "output_type": "execute_result"
    }
   ],
   "source": [
    "data['class'].unique() # 5 class dataset"
   ]
  },
  {
   "cell_type": "code",
   "execution_count": 4,
   "id": "85162656",
   "metadata": {},
   "outputs": [
    {
     "data": {
      "text/plain": [
       "not_recom     4320\n",
       "priority      4266\n",
       "spec_prior    4044\n",
       "very_recom     328\n",
       "recommend        2\n",
       "Name: class, dtype: int64"
      ]
     },
     "execution_count": 4,
     "metadata": {},
     "output_type": "execute_result"
    }
   ],
   "source": [
    "data['class'].value_counts()"
   ]
  },
  {
   "cell_type": "code",
   "execution_count": 5,
   "id": "cce284b0",
   "metadata": {},
   "outputs": [
    {
     "name": "stdout",
     "output_type": "stream",
     "text": [
      "<class 'pandas.core.frame.DataFrame'>\n",
      "RangeIndex: 12960 entries, 0 to 12959\n",
      "Data columns (total 9 columns):\n",
      " #   Column    Non-Null Count  Dtype \n",
      "---  ------    --------------  ----- \n",
      " 0   parents   12960 non-null  object\n",
      " 1   has_nurs  12960 non-null  object\n",
      " 2   form      12960 non-null  object\n",
      " 3   children  12960 non-null  object\n",
      " 4   housing   12960 non-null  object\n",
      " 5   finance   12960 non-null  object\n",
      " 6   social    12960 non-null  object\n",
      " 7   health    12960 non-null  object\n",
      " 8   class     12960 non-null  object\n",
      "dtypes: object(9)\n",
      "memory usage: 911.4+ KB\n"
     ]
    }
   ],
   "source": [
    "data.info()"
   ]
  },
  {
   "cell_type": "code",
   "execution_count": 6,
   "id": "01671297",
   "metadata": {},
   "outputs": [],
   "source": [
    "X = data.drop('class',axis=1)\n",
    "Y = data['class']"
   ]
  },
  {
   "cell_type": "code",
   "execution_count": 7,
   "id": "13bab4e1",
   "metadata": {},
   "outputs": [],
   "source": [
    "Y[Y == 'spec_prior'] = 'recommend'\n",
    "Y[Y == 'very_recom'] = 'recommend'\n"
   ]
  },
  {
   "cell_type": "code",
   "execution_count": 8,
   "id": "b82e0445",
   "metadata": {},
   "outputs": [
    {
     "data": {
      "text/plain": [
       "recommend    4374\n",
       "not_recom    4320\n",
       "priority     4266\n",
       "Name: class, dtype: int64"
      ]
     },
     "execution_count": 8,
     "metadata": {},
     "output_type": "execute_result"
    }
   ],
   "source": [
    "Y.value_counts()"
   ]
  },
  {
   "cell_type": "code",
   "execution_count": 9,
   "id": "f858ffcf",
   "metadata": {},
   "outputs": [],
   "source": [
    "# To store the test score of 5 iterations in order to compute the mean and variance of testing accuracy.\n",
    "DecisionTree_categorical = []\n",
    "DecisionTree_oneHot = [] \n",
    "Log_Regression = []\n",
    "K_Nearest_Neighbors = []"
   ]
  },
  {
   "cell_type": "markdown",
   "id": "65b02b9f",
   "metadata": {},
   "source": [
    "The task is conducted 5 times, therefore the data would be split into train, validation and test 5 times randomly."
   ]
  },
  {
   "cell_type": "code",
   "execution_count": 47,
   "id": "8f0b0f66",
   "metadata": {},
   "outputs": [],
   "source": [
    "X_train, X_test, Y_train, Y_test = train_test_split(X, Y, test_size=0.2, random_state=42)"
   ]
  },
  {
   "cell_type": "code",
   "execution_count": 48,
   "id": "1b08994a",
   "metadata": {},
   "outputs": [],
   "source": [
    "x_train, x_val, y_train, y_val = train_test_split(X_train, Y_train, test_size=0.1, random_state=42)"
   ]
  },
  {
   "cell_type": "markdown",
   "id": "7a51ac82",
   "metadata": {},
   "source": [
    "To fit the Decision Tree with Categorical data"
   ]
  },
  {
   "cell_type": "code",
   "execution_count": 49,
   "id": "59ace6f8",
   "metadata": {},
   "outputs": [],
   "source": [
    "from sklearn.tree import DecisionTreeClassifier\n",
    "from sklearn import tree\n",
    "from sklearn.preprocessing import LabelEncoder"
   ]
  },
  {
   "cell_type": "code",
   "execution_count": 50,
   "id": "8f6a10d8",
   "metadata": {},
   "outputs": [],
   "source": [
    "encoder = LabelEncoder()\n",
    "for i in X.columns: # Encoding the categorical values of features \n",
    "    x_train[i] = encoder.fit_transform(x_train[i])\n",
    "    x_val[i] = encoder.fit_transform(x_val[i])\n",
    "    X_test[i] = encoder.fit_transform(X_test[i])"
   ]
  },
  {
   "cell_type": "code",
   "execution_count": 51,
   "id": "2699ce0d",
   "metadata": {},
   "outputs": [],
   "source": [
    "model = DecisionTreeClassifier().fit(x_train,y_train)"
   ]
  },
  {
   "cell_type": "code",
   "execution_count": 52,
   "id": "53bfbab6",
   "metadata": {},
   "outputs": [],
   "source": [
    "parameters = {'max_depth':[i for i in range(1,11)],\n",
    "              'criterion' :['entropy','gini'],\n",
    "              'splitter':['best','random'],\n",
    "              'min_samples_split': [i for i in range(2,11)],\n",
    "              'min_samples_leaf': [i for i in range(1,11)]}"
   ]
  },
  {
   "cell_type": "markdown",
   "id": "56679f7f",
   "metadata": {},
   "source": [
    "#### The parameters considered for tuning in Decision Trees:\n",
    "\n",
    "1. The max depth parameter is searched in range (1,10) as it covers shallow trees and trees of considerable depth.\n",
    "2. The criterion is chosen to be either gini or entropy which is based on gini index and information gain at each node respectively.\n",
    "3. The splitter is chosen as either best or random. best chooses the best split at each node based on criterion and random chooses a best split among a random subset of features.\n",
    "4. min_samples_split range from (2,10), determining the optimum number of samples required to split at a node. Higher value prevents overfitting therefore it is searched till the value 10.\n",
    "5. min_samples_leaf is searched between (1,10) which specifies the minimum no of samples to be present at each leaf node."
   ]
  },
  {
   "cell_type": "code",
   "execution_count": 53,
   "id": "8d1db22a",
   "metadata": {},
   "outputs": [
    {
     "name": "stdout",
     "output_type": "stream",
     "text": [
      "Best Decision Tree parameters: {'criterion': 'gini', 'max_depth': 9, 'min_samples_leaf': 1, 'min_samples_split': 6, 'splitter': 'best'}\n"
     ]
    }
   ],
   "source": [
    "C = GridSearchCV(model, param_grid=parameters, cv=5)\n",
    "C.fit(x_val,y_val)\n",
    "Model_categorical = C.best_estimator_\n",
    "print(f\"Best Decision Tree parameters: {C.best_params_}\")\n",
    "    \n",
    "Model_categorical.fit(x_train, y_train)\n",
    "DecisionTree_categorical.append(Model_categorical.score(X_test,Y_test))"
   ]
  },
  {
   "cell_type": "code",
   "execution_count": 54,
   "id": "e790c46a",
   "metadata": {},
   "outputs": [
    {
     "data": {
      "text/plain": [
       "[0.9347993827160493,\n",
       " 0.9621913580246914,\n",
       " 0.9621913580246914,\n",
       " 0.9533179012345679,\n",
       " 0.9533179012345679]"
      ]
     },
     "execution_count": 54,
     "metadata": {},
     "output_type": "execute_result"
    }
   ],
   "source": [
    "DecisionTree_categorical"
   ]
  },
  {
   "cell_type": "code",
   "execution_count": 55,
   "id": "c26849be",
   "metadata": {},
   "outputs": [
    {
     "data": {
      "text/plain": [
       "([0.9347993827160493,\n",
       "  0.9621913580246914,\n",
       "  0.9621913580246914,\n",
       "  0.9533179012345679,\n",
       "  0.9533179012345679],\n",
       " [93.48, 96.22, 96.22, 95.33, 95.33])"
      ]
     },
     "execution_count": 55,
     "metadata": {},
     "output_type": "execute_result"
    }
   ],
   "source": [
    "A = [round(i*100,2) for i in DecisionTree_categorical]\n",
    "DecisionTree_categorical,A"
   ]
  },
  {
   "cell_type": "code",
   "execution_count": 56,
   "id": "798610fe",
   "metadata": {},
   "outputs": [
    {
     "name": "stdout",
     "output_type": "stream",
     "text": [
      "Mean of Test Performance: 95.32\n",
      "Variance of Test Performance: 1.0\n"
     ]
    }
   ],
   "source": [
    "dt_mean_categorical = np.mean(A)\n",
    "dt_var_categorical = np.var(A)\n",
    "print(\"Mean of Test Performance:\",round(dt_mean_categorical,2))\n",
    "print(\"Variance of Test Performance:\",round(dt_var_categorical,2))"
   ]
  },
  {
   "cell_type": "markdown",
   "id": "4a5d26ad",
   "metadata": {},
   "source": [
    "To fit Decision Tree with one hot encoded labels"
   ]
  },
  {
   "cell_type": "code",
   "execution_count": 58,
   "id": "8dc1b170",
   "metadata": {},
   "outputs": [
    {
     "name": "stdout",
     "output_type": "stream",
     "text": [
      "Best Decision Tree parameters: {'criterion': 'entropy', 'max_depth': 10, 'min_samples_leaf': 1, 'min_samples_split': 2, 'splitter': 'best'}\n",
      "Best Decision Tree parameters: {'criterion': 'entropy', 'max_depth': 10, 'min_samples_leaf': 1, 'min_samples_split': 2, 'splitter': 'best'}\n"
     ]
    },
    {
     "name": "stderr",
     "output_type": "stream",
     "text": [
      "C:\\Users\\MANOJ\\AppData\\Roaming\\Python\\Python310\\site-packages\\numpy\\ma\\core.py:2820: RuntimeWarning: invalid value encountered in cast\n",
      "  _data = np.array(data, dtype=dtype, copy=copy,\n"
     ]
    },
    {
     "name": "stdout",
     "output_type": "stream",
     "text": [
      "Best Decision Tree parameters: {'criterion': 'entropy', 'max_depth': 10, 'min_samples_leaf': 1, 'min_samples_split': 2, 'splitter': 'random'}\n",
      "Best Decision Tree parameters: {'criterion': 'entropy', 'max_depth': 10, 'min_samples_leaf': 1, 'min_samples_split': 2, 'splitter': 'random'}\n",
      "Best Decision Tree parameters: {'criterion': 'gini', 'max_depth': 9, 'min_samples_leaf': 1, 'min_samples_split': 6, 'splitter': 'best'}\n"
     ]
    }
   ],
   "source": [
    "for i in range(5):\n",
    "    X_train, X_test, Y_train, Y_test = train_test_split(X, Y, test_size=0.2, random_state=42)\n",
    "    x_train, x_val, y_train, y_val = train_test_split(X_train, Y_train, test_size=0.1, random_state=42)\n",
    "    \n",
    "    # To get One hot encoded labels\n",
    "    x_train_onehot = pd.get_dummies(x_train)\n",
    "    x_val_onehot = pd.get_dummies(x_val)\n",
    "    X_test_onehot = pd.get_dummies(X_test)\n",
    "    \n",
    "    model_oneHot = DecisionTreeClassifier().fit(x_train_onehot,y_train)\n",
    "    \n",
    "    parameters = {'max_depth':[i for i in range(1,11)],\n",
    "              'criterion' :['entropy','gini'],\n",
    "              'splitter':['best','random'],\n",
    "              'min_samples_split': [i for i in range(2,11)],\n",
    "              'min_samples_leaf': [i for i in range(1,11)]}\n",
    "    \n",
    "    C = GridSearchCV(model_oneHot, param_grid=parameters, cv=5)\n",
    "    C.fit(x_val_onehot,y_val)\n",
    "    Model_oneHot = C.best_estimator_\n",
    "    print(f\"Best Decision Tree parameters: {C.best_params_}\")\n",
    "    \n",
    "    Model_oneHot.fit(x_train_onehot, y_train)\n",
    "    DecisionTree_oneHot.append(Model_oneHot.score(X_test_onehot,Y_test))"
   ]
  },
  {
   "cell_type": "code",
   "execution_count": 60,
   "id": "d6fa8b74",
   "metadata": {},
   "outputs": [
    {
     "data": {
      "text/plain": [
       "([0.9594907407407407,\n",
       "  0.9583333333333334,\n",
       "  0.9591049382716049,\n",
       "  0.9571759259259259,\n",
       "  0.9571759259259259],\n",
       " [95.95, 95.83, 95.91, 95.72, 95.72])"
      ]
     },
     "execution_count": 60,
     "metadata": {},
     "output_type": "execute_result"
    }
   ],
   "source": [
    "B = [round(i*100,2) for i in DecisionTree_oneHot]\n",
    "DecisionTree_oneHot,B"
   ]
  },
  {
   "cell_type": "code",
   "execution_count": 61,
   "id": "de330593",
   "metadata": {},
   "outputs": [
    {
     "name": "stdout",
     "output_type": "stream",
     "text": [
      "Mean of Test Performance: 95.83\n",
      "Variance of Test Performance: 0.01\n"
     ]
    }
   ],
   "source": [
    "dt_mean_oneHot = np.mean(B)\n",
    "dt_var_oneHot = np.var(B)\n",
    "print(\"Mean of Test Performance:\",round(dt_mean_oneHot,2))\n",
    "print(\"Variance of Test Performance:\",round(dt_var_oneHot,2))"
   ]
  },
  {
   "cell_type": "markdown",
   "id": "e5019ae7",
   "metadata": {},
   "source": [
    "K-Nearest Neighbors"
   ]
  },
  {
   "cell_type": "code",
   "execution_count": 62,
   "id": "afb4ae7a",
   "metadata": {},
   "outputs": [],
   "source": [
    "from sklearn.neighbors import KNeighborsClassifier"
   ]
  },
  {
   "cell_type": "code",
   "execution_count": 77,
   "id": "521fb15c",
   "metadata": {},
   "outputs": [
    {
     "name": "stdout",
     "output_type": "stream",
     "text": [
      "Best KNN parameters: {'n_neighbors': 4}\n",
      "Best KNN parameters: {'n_neighbors': 8}\n",
      "Best KNN parameters: {'n_neighbors': 10}\n",
      "Best KNN parameters: {'n_neighbors': 6}\n",
      "Best KNN parameters: {'n_neighbors': 10}\n"
     ]
    }
   ],
   "source": [
    "K_Nearest_Neighbors = []\n",
    "for i in range(5):\n",
    "    X_train, X_test, Y_train, Y_test = train_test_split(X, Y, test_size=0.2, random_state=42)\n",
    "    x_train, x_val, y_train, y_val = train_test_split(X_train, Y_train, test_size=0.1, random_state=42)\n",
    "    \n",
    "    # To get One hot encoded labels\n",
    "    x_train_onehot = pd.get_dummies(x_train)\n",
    "    x_val_onehot = pd.get_dummies(x_val)\n",
    "    X_test_onehot = pd.get_dummies(X_test)\n",
    "    \n",
    "    Model3 = KNeighborsClassifier()\n",
    "    Model3.fit(x_train_onehot,y_train)\n",
    "    \n",
    "    parameter_knn={'n_neighbors' : [i for i in range(2,np.random.randint(5,15))]} \n",
    "    # Searching for the most optimal number of Neighbors \n",
    "    K = GridSearchCV(Model3, param_grid=parameter_knn, cv=5)\n",
    "    K.fit(x_val_onehot,y_val)\n",
    "    Model_KNN = K.best_estimator_\n",
    "    Model_KNN.fit(x_train_onehot,y_train)\n",
    "    print(f\"Best KNN parameters: {K.best_params_}\")\n",
    "    \n",
    "    K_Nearest_Neighbors.append(Model_KNN.score(X_test_onehot,Y_test))\n",
    "\n",
    "    "
   ]
  },
  {
   "cell_type": "code",
   "execution_count": 79,
   "id": "71ba8ae4",
   "metadata": {},
   "outputs": [
    {
     "data": {
      "text/plain": [
       "([0.9120370370370371,\n",
       "  0.9483024691358025,\n",
       "  0.9629629629629629,\n",
       "  0.9402006172839507,\n",
       "  0.9629629629629629],\n",
       " [91.2, 94.83, 96.3, 94.02, 96.3])"
      ]
     },
     "execution_count": 79,
     "metadata": {},
     "output_type": "execute_result"
    }
   ],
   "source": [
    "k = [round(i*100,2) for i in K_Nearest_Neighbors]\n",
    "K_Nearest_Neighbors,k"
   ]
  },
  {
   "cell_type": "code",
   "execution_count": 80,
   "id": "5c210ba1",
   "metadata": {},
   "outputs": [
    {
     "name": "stdout",
     "output_type": "stream",
     "text": [
      "Mean of Test Performance: 94.53\n",
      "Variance of Test Performance: 3.54\n"
     ]
    }
   ],
   "source": [
    "k_mean = np.mean(k)\n",
    "k_var = np.var(k)\n",
    "print(\"Mean of Test Performance:\",round(k_mean,2))\n",
    "print(\"Variance of Test Performance:\",round(k_var,2))"
   ]
  },
  {
   "cell_type": "markdown",
   "id": "8be82e65",
   "metadata": {},
   "source": [
    "Logistic Regression"
   ]
  },
  {
   "cell_type": "code",
   "execution_count": 81,
   "id": "bc6f789e",
   "metadata": {},
   "outputs": [],
   "source": [
    "from sklearn.linear_model import LogisticRegression"
   ]
  },
  {
   "cell_type": "code",
   "execution_count": 114,
   "id": "ea2365e6",
   "metadata": {},
   "outputs": [
    {
     "name": "stdout",
     "output_type": "stream",
     "text": [
      "Best Logistic Regression parameters: {'C': 0.0481045829569674, 'max_iter': 4000, 'penalty': 'l1', 'solver': 'saga'}\n",
      "Best Logistic Regression parameters: {'C': 0.45728212719036515, 'max_iter': 4000, 'penalty': 'l1', 'solver': 'saga'}\n",
      "Best Logistic Regression parameters: {'C': 0.3522040644630245, 'max_iter': 4000, 'penalty': 'l1', 'solver': 'saga'}\n",
      "Best Logistic Regression parameters: {'C': 0.2298302051294932, 'max_iter': 4000, 'penalty': 'l1', 'solver': 'saga'}\n",
      "Best Logistic Regression parameters: {'C': 0.7035688089332067, 'max_iter': 4000, 'penalty': 'l1', 'solver': 'saga'}\n"
     ]
    }
   ],
   "source": [
    "Log_Regression = []\n",
    "for i in range(5):\n",
    "    X_train, X_test, Y_train, Y_test = train_test_split(X, Y, test_size=0.2, random_state=42)\n",
    "    x_train, x_val, y_train, y_val = train_test_split(X_train, Y_train, test_size=0.1, random_state=42)\n",
    "    \n",
    "    # To get One hot encoded labels\n",
    "    x_train_onehot = pd.get_dummies(x_train)\n",
    "    x_val_onehot = pd.get_dummies(x_val)\n",
    "    X_test_onehot = pd.get_dummies(X_test)\n",
    "    \n",
    "    Model2 = LogisticRegression().fit(x_train_onehot,y_train)\n",
    "    parameters_logistic = {'penalty': ['l1'], \n",
    "                        'solver': ['saga'],\n",
    "                       'C': [np.random.uniform(0.02,0.9)],'max_iter':[4000]}\n",
    "    \n",
    "    L = GridSearchCV(Model2, param_grid=parameters_logistic, cv=5)\n",
    "    L.fit(x_val_onehot,y_val)\n",
    "    Model_Logistic = L.best_estimator_\n",
    "    Model_Logistic.fit(x_train_onehot, y_train)\n",
    "    print(f\"Best Logistic Regression parameters: {L.best_params_}\")\n",
    "    \n",
    "    Log_Regression.append(Model_Logistic.score(X_test_onehot,Y_test))\n"
   ]
  },
  {
   "cell_type": "markdown",
   "id": "2a4c0a49",
   "metadata": {},
   "source": [
    "The parameters to tune in Logistic Regression:\n",
    "   1. Penalty is set to L1\n",
    "   2. solver is set to saga as it supports both l1 penalty and is suitable for Multi class problem. It is algorithm used in the optimisation problem.\n",
    "   3. Looking for the best lambda(coefficient of the regularization term)\n",
    "   "
   ]
  },
  {
   "cell_type": "code",
   "execution_count": 101,
   "id": "03329aa3",
   "metadata": {},
   "outputs": [
    {
     "data": {
      "text/plain": [
       "[0.9128086419753086,\n",
       " 0.9170524691358025,\n",
       " 0.9166666666666666,\n",
       " 0.9170524691358025,\n",
       " 0.9147376543209876]"
      ]
     },
     "execution_count": 101,
     "metadata": {},
     "output_type": "execute_result"
    }
   ],
   "source": [
    "Log_Regression"
   ]
  },
  {
   "cell_type": "code",
   "execution_count": 102,
   "id": "f57503f3",
   "metadata": {},
   "outputs": [
    {
     "data": {
      "text/plain": [
       "([0.9128086419753086,\n",
       "  0.9170524691358025,\n",
       "  0.9166666666666666,\n",
       "  0.9170524691358025,\n",
       "  0.9147376543209876],\n",
       " [91.28, 91.71, 91.67, 91.71, 91.47])"
      ]
     },
     "execution_count": 102,
     "metadata": {},
     "output_type": "execute_result"
    }
   ],
   "source": [
    "l = [round(i*100,2) for i in Log_Regression]\n",
    "Log_Regression,l"
   ]
  },
  {
   "cell_type": "code",
   "execution_count": 103,
   "id": "db1813f6",
   "metadata": {},
   "outputs": [
    {
     "name": "stdout",
     "output_type": "stream",
     "text": [
      "Mean of Test Performance: 91.57\n",
      "Variance of Test Performance: 0.03\n"
     ]
    }
   ],
   "source": [
    "l_mean = np.mean(l)\n",
    "l_var = np.var(l)\n",
    "print(\"Mean of Test Performance:\",round(l_mean,2))\n",
    "print(\"Variance of Test Performance:\",round(l_var,2))"
   ]
  },
  {
   "cell_type": "code",
   "execution_count": 115,
   "id": "9a31f87a",
   "metadata": {},
   "outputs": [
    {
     "data": {
      "image/png": "[encoded data removed]",
      "text/plain": [
       "<Figure size 1000x600 with 1 Axes>"
      ]
     },
     "metadata": {},
     "output_type": "display_data"
    }
   ],
   "source": [
    "# Plotting the data\n",
    "models = ['Xgboost Classification','Support Vector Classification','Random Forest Classification',\n",
    "          'Neural Network Classification','Logistic Regression',   \n",
    "          'Decision Trees (Categorical features)',\n",
    "          'Decision Trees(One hot encoded)', 'Logistic Regression(L1)', 'KNN']\n",
    "\n",
    "# Define mean accuracy values and error ranges for each model\n",
    "means = [99.969, 99.198, 98.025, 100, 92.253, dt_mean_categorical, dt_mean_oneHot, l_mean, k_mean ]\n",
    "lower_error = [0.062, 0.309, 0.494, 0.0, 0.926, np.sqrt(dt_var_categorical), np.sqrt(dt_var_oneHot),\n",
    "               np.sqrt(l_var), np.sqrt(k_var)]\n",
    "upper_error = [0.031, 0.277, 0.463, 0.0, 0.864, np.sqrt(dt_var_categorical), \n",
    "               np.sqrt(dt_var_oneHot), np.sqrt(l_var), np.sqrt(k_var)]\n",
    "\n",
    "error = [lower_error, upper_error]\n",
    "\n",
    "fig, ax = plt.subplots(figsize=(10, 6))\n",
    "\n",
    "ax.errorbar(means, models, xerr=error, fmt='o', color='steelblue', ecolor='black',capsize=5, markersize=8, capthick=2, linestyle='None')\n",
    "\n",
    "ax.set_xlabel('Accuracy (%)')\n",
    "ax.set_title('Comparison of Model Performance')\n",
    "\n",
    "ax.grid(True, linestyle='--', alpha=0.7)\n",
    "\n",
    "plt.tight_layout()\n",
    "plt.show()\n"
   ]
  },
  {
   "cell_type": "code",
   "execution_count": null,
   "id": "7c4a0501",
   "metadata": {},
   "outputs": [],
   "source": []
  },
  {
   "cell_type": "code",
   "execution_count": null,
   "id": "4bdf5466",
   "metadata": {},
   "outputs": [],
   "source": []
  },
  {
   "cell_type": "code",
   "execution_count": null,
   "id": "05515551",
   "metadata": {},
   "outputs": [],
   "source": []
  },
  {
   "cell_type": "code",
   "execution_count": null,
   "id": "ea433679",
   "metadata": {},
   "outputs": [],
   "source": []
  },
  {
   "cell_type": "code",
   "execution_count": null,
   "id": "0a935ebe",
   "metadata": {},
   "outputs": [],
   "source": []
  }
 ],
 "metadata": {
  "kernelspec": {
   "display_name": "Python 3 (ipykernel)",
   "language": "python",
   "name": "python3"
  },
  "language_info": {
   "codemirror_mode": {
    "name": "ipython",
    "version": 3
   },
   "file_extension": ".py",
   "mimetype": "text/x-python",
   "name": "python",
   "nbconvert_exporter": "python",
   "pygments_lexer": "ipython3",
   "version": "3.10.11"
  }
 },
 "nbformat": 4,
 "nbformat_minor": 5
}
