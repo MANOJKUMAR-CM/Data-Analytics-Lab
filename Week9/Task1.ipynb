{
 "cells": [
  {
   "cell_type": "code",
   "execution_count": 1,
   "id": "c4f7d778",
   "metadata": {},
   "outputs": [],
   "source": [
    "import numpy as np\n",
    "import pandas as pd\n",
    "import os\n",
    "import shutil"
   ]
  },
  {
   "cell_type": "code",
   "execution_count": 2,
   "id": "7e69526f",
   "metadata": {},
   "outputs": [],
   "source": [
    "df = pd.read_csv(\"train.csv\")"
   ]
  },
  {
   "cell_type": "code",
   "execution_count": 3,
   "id": "eab6a2c4",
   "metadata": {},
   "outputs": [
    {
     "data": {
      "text/html": [
       "<div>\n",
       "<style scoped>\n",
       "    .dataframe tbody tr th:only-of-type {\n",
       "        vertical-align: middle;\n",
       "    }\n",
       "\n",
       "    .dataframe tbody tr th {\n",
       "        vertical-align: top;\n",
       "    }\n",
       "\n",
       "    .dataframe thead th {\n",
       "        text-align: right;\n",
       "    }\n",
       "</style>\n",
       "<table border=\"1\" class=\"dataframe\">\n",
       "  <thead>\n",
       "    <tr style=\"text-align: right;\">\n",
       "      <th></th>\n",
       "      <th>id</th>\n",
       "      <th>Category</th>\n",
       "      <th>len</th>\n",
       "      <th>attr_1</th>\n",
       "      <th>attr_2</th>\n",
       "      <th>attr_3</th>\n",
       "      <th>attr_4</th>\n",
       "      <th>attr_5</th>\n",
       "      <th>attr_6</th>\n",
       "      <th>attr_7</th>\n",
       "      <th>attr_8</th>\n",
       "      <th>attr_9</th>\n",
       "      <th>attr_10</th>\n",
       "    </tr>\n",
       "  </thead>\n",
       "  <tbody>\n",
       "    <tr>\n",
       "      <th>0</th>\n",
       "      <td>0</td>\n",
       "      <td>Men Tshirts</td>\n",
       "      <td>5</td>\n",
       "      <td>default</td>\n",
       "      <td>round</td>\n",
       "      <td>printed</td>\n",
       "      <td>default</td>\n",
       "      <td>short sleeves</td>\n",
       "      <td>NaN</td>\n",
       "      <td>NaN</td>\n",
       "      <td>NaN</td>\n",
       "      <td>NaN</td>\n",
       "      <td>NaN</td>\n",
       "    </tr>\n",
       "    <tr>\n",
       "      <th>1</th>\n",
       "      <td>1</td>\n",
       "      <td>Men Tshirts</td>\n",
       "      <td>5</td>\n",
       "      <td>multicolor</td>\n",
       "      <td>polo</td>\n",
       "      <td>solid</td>\n",
       "      <td>solid</td>\n",
       "      <td>short sleeves</td>\n",
       "      <td>NaN</td>\n",
       "      <td>NaN</td>\n",
       "      <td>NaN</td>\n",
       "      <td>NaN</td>\n",
       "      <td>NaN</td>\n",
       "    </tr>\n",
       "    <tr>\n",
       "      <th>2</th>\n",
       "      <td>2</td>\n",
       "      <td>Men Tshirts</td>\n",
       "      <td>5</td>\n",
       "      <td>default</td>\n",
       "      <td>polo</td>\n",
       "      <td>solid</td>\n",
       "      <td>solid</td>\n",
       "      <td>short sleeves</td>\n",
       "      <td>NaN</td>\n",
       "      <td>NaN</td>\n",
       "      <td>NaN</td>\n",
       "      <td>NaN</td>\n",
       "      <td>NaN</td>\n",
       "    </tr>\n",
       "    <tr>\n",
       "      <th>3</th>\n",
       "      <td>3</td>\n",
       "      <td>Men Tshirts</td>\n",
       "      <td>5</td>\n",
       "      <td>multicolor</td>\n",
       "      <td>polo</td>\n",
       "      <td>solid</td>\n",
       "      <td>solid</td>\n",
       "      <td>short sleeves</td>\n",
       "      <td>NaN</td>\n",
       "      <td>NaN</td>\n",
       "      <td>NaN</td>\n",
       "      <td>NaN</td>\n",
       "      <td>NaN</td>\n",
       "    </tr>\n",
       "    <tr>\n",
       "      <th>4</th>\n",
       "      <td>4</td>\n",
       "      <td>Men Tshirts</td>\n",
       "      <td>5</td>\n",
       "      <td>multicolor</td>\n",
       "      <td>polo</td>\n",
       "      <td>solid</td>\n",
       "      <td>solid</td>\n",
       "      <td>short sleeves</td>\n",
       "      <td>NaN</td>\n",
       "      <td>NaN</td>\n",
       "      <td>NaN</td>\n",
       "      <td>NaN</td>\n",
       "      <td>NaN</td>\n",
       "    </tr>\n",
       "  </tbody>\n",
       "</table>\n",
       "</div>"
      ],
      "text/plain": [
       "   id     Category  len      attr_1 attr_2   attr_3   attr_4         attr_5  \\\n",
       "0   0  Men Tshirts    5     default  round  printed  default  short sleeves   \n",
       "1   1  Men Tshirts    5  multicolor   polo    solid    solid  short sleeves   \n",
       "2   2  Men Tshirts    5     default   polo    solid    solid  short sleeves   \n",
       "3   3  Men Tshirts    5  multicolor   polo    solid    solid  short sleeves   \n",
       "4   4  Men Tshirts    5  multicolor   polo    solid    solid  short sleeves   \n",
       "\n",
       "  attr_6 attr_7 attr_8 attr_9 attr_10  \n",
       "0    NaN    NaN    NaN    NaN     NaN  \n",
       "1    NaN    NaN    NaN    NaN     NaN  \n",
       "2    NaN    NaN    NaN    NaN     NaN  \n",
       "3    NaN    NaN    NaN    NaN     NaN  \n",
       "4    NaN    NaN    NaN    NaN     NaN  "
      ]
     },
     "execution_count": 3,
     "metadata": {},
     "output_type": "execute_result"
    }
   ],
   "source": [
    "df.head()"
   ]
  },
  {
   "cell_type": "code",
   "execution_count": 4,
   "id": "5fd7701c",
   "metadata": {},
   "outputs": [
    {
     "data": {
      "text/plain": [
       "{'Kurtis', 'Men Tshirts', 'Sarees', 'Women Tops & Tunics', 'Women Tshirts'}"
      ]
     },
     "execution_count": 4,
     "metadata": {},
     "output_type": "execute_result"
    }
   ],
   "source": [
    "S_category = set(df['Category'])\n",
    "S_category"
   ]
  },
  {
   "cell_type": "markdown",
   "id": "d6ac3348",
   "metadata": {},
   "source": [
    "## To help list the diff items of particular attributes to select a particular one for sampling"
   ]
  },
  {
   "cell_type": "code",
   "execution_count": 5,
   "id": "db456fd1",
   "metadata": {},
   "outputs": [],
   "source": [
    "D_Kurtis_attr1={}\n",
    "D_Men_attr1={}\n",
    "D_Sarees_attr1={}\n",
    "D_WTT_attr1={}\n",
    "D_WTS_attr1={}"
   ]
  },
  {
   "cell_type": "code",
   "execution_count": 6,
   "id": "9fa89daa",
   "metadata": {},
   "outputs": [],
   "source": [
    "for category in S_category:\n",
    "    if(category == 'Sarees'):\n",
    "        S = set(df[df['Category'] == category]['attr_1'])\n",
    "        for element in S:\n",
    "            D_Sarees_attr1[element] = (df[df['Category'] == category]['attr_1'] == element).sum()\n",
    "            \n",
    "    elif (category == 'Men Tshirts'):\n",
    "        S = set(df[df['Category'] == category]['attr_1'])\n",
    "        for element in S:\n",
    "            D_Men_attr1[element] = (df[df['Category'] == category]['attr_1'] == element).sum()\n",
    "            \n",
    "    elif (category == 'Kurtis'):\n",
    "        S = set(df[df['Category'] == category]['attr_1'])\n",
    "        for element in S:\n",
    "            D_Kurtis_attr1[element] = (df[df['Category'] == category]['attr_1'] == element).sum()\n",
    "            \n",
    "    elif (category == 'Women Tops & Tunics'):\n",
    "        S = set(df[df['Category'] == category]['attr_1'])\n",
    "        for element in S:\n",
    "            D_WTT_attr1[element] = (df[df['Category'] == category]['attr_1'] == element).sum()\n",
    "            \n",
    "    elif (category == 'Women Tshirts'):\n",
    "        S = set(df[df['Category'] == category]['attr_1'])\n",
    "        for element in S:\n",
    "            D_WTS_attr1[element] = (df[df['Category'] == category]['attr_1'] == element).sum()\n",
    "    \n",
    "    "
   ]
  },
  {
   "cell_type": "code",
   "execution_count": 7,
   "id": "4dfe1573",
   "metadata": {},
   "outputs": [],
   "source": [
    "D_Kurtis_attr2={}\n",
    "D_Men_attr2={}\n",
    "D_Sarees_attr2={}\n",
    "D_WTT_attr2={}\n",
    "D_WTS_attr2={}"
   ]
  },
  {
   "cell_type": "code",
   "execution_count": 8,
   "id": "24829cca",
   "metadata": {},
   "outputs": [],
   "source": [
    "for category in S_category:\n",
    "    if(category == 'Sarees'):\n",
    "        S = set(df[df['Category'] == category]['attr_2'])\n",
    "        for element in S:\n",
    "            D_Sarees_attr2[element] = (df[df['Category'] == category]['attr_2'] == element).sum()\n",
    "            \n",
    "    elif (category == 'Men Tshirts'):\n",
    "        S = set(df[df['Category'] == category]['attr_2'])\n",
    "        for element in S:\n",
    "            D_Men_attr2[element] = (df[df['Category'] == category]['attr_2'] == element).sum()\n",
    "            \n",
    "    elif (category == 'Kurtis'):\n",
    "        S = set(df[df['Category'] == category]['attr_2'])\n",
    "        for element in S:\n",
    "            D_Kurtis_attr2[element] = (df[df['Category'] == category]['attr_2'] == element).sum()\n",
    "            \n",
    "    elif (category == 'Women Tops & Tunics'):\n",
    "        S = set(df[df['Category'] == category]['attr_2'])\n",
    "        for element in S:\n",
    "            D_WTT_attr2[element] = (df[df['Category'] == category]['attr_2'] == element).sum()\n",
    "            \n",
    "    elif (category == 'Women Tshirts'):\n",
    "        S = set(df[df['Category'] == category]['attr_2'])\n",
    "        for element in S:\n",
    "            D_WTS_attr2[element] = (df[df['Category'] == category]['attr_2'] == element).sum()\n",
    "    \n",
    "    "
   ]
  },
  {
   "cell_type": "code",
   "execution_count": 9,
   "id": "92386573",
   "metadata": {},
   "outputs": [
    {
     "name": "stdout",
     "output_type": "stream",
     "text": [
      "{'blue': 945, 'multicolor': 456, 'red': 802, 'black': 2703, 'maroon': 797, 'white': 2433, nan: 0, 'peach': 397, 'green': 666, 'pink': 1532, 'default': 1983, 'navy blue': 423, 'yellow': 921}\n",
      "\n",
      "{'multicolor': 1821, 'white': 1253, 'black': 804, nan: 0, 'default': 2132}\n",
      "\n",
      "{'blue': 426, 'multicolor': 407, 'red': 1376, 'black': 1395, 'maroon': 1071, nan: 0, 'white': 66, 'orange': 33, 'purple': 170, 'green': 258, 'pink': 220, 'grey': 137, 'navy blue': 717, 'yellow': 353}\n",
      "\n",
      "{nan: 0, 'solid': 188, 'same as saree': 5230, 'same as border': 1611, 'default': 856}\n",
      "\n",
      "{'multicolor': 1392, 'white': 4650, 'black': 2999, 'maroon': 729, nan: 0, 'yellow': 1838, 'pink': 1380, 'default': 4297}\n"
     ]
    }
   ],
   "source": [
    "print(D_WTT_attr1)\n",
    "print()\n",
    "print(D_Men_attr1)\n",
    "print()\n",
    "print(D_Kurtis_attr1)\n",
    "print()\n",
    "print(D_Sarees_attr1)\n",
    "print()\n",
    "print(D_WTS_attr1)"
   ]
  },
  {
   "cell_type": "code",
   "execution_count": 10,
   "id": "6748ffb8",
   "metadata": {},
   "outputs": [
    {
     "name": "stdout",
     "output_type": "stream",
     "text": [
      "{'fitted': 5523, nan: 0, 'regular': 4846, 'default': 935, 'boxy': 2033}\n",
      "\n",
      "{nan: 0, 'round': 3059, 'polo': 3085}\n",
      "\n",
      "{'straight': 1165, nan: 0, 'a-line': 2066}\n",
      "\n",
      "{'zari': 8542, 'no border': 313, 'temple border': 1296, 'woven design': 6262, nan: 0, 'solid': 411, 'default': 855}\n",
      "\n",
      "{nan: 0, 'boxy': 942, 'regular': 12376, 'loose': 1483}\n"
     ]
    }
   ],
   "source": [
    "print(D_WTT_attr2)\n",
    "print()\n",
    "print(D_Men_attr2)\n",
    "print()\n",
    "print(D_Kurtis_attr2)\n",
    "print()\n",
    "print(D_Sarees_attr2)\n",
    "print()\n",
    "print(D_WTS_attr2)"
   ]
  },
  {
   "cell_type": "code",
   "execution_count": 11,
   "id": "31b5d00b",
   "metadata": {},
   "outputs": [],
   "source": [
    "D_Kurtis_black=[]\n",
    "samples = df[(df['Category'] == 'Kurtis') & (df['attr_1'] == 'black')]\n",
    "sampled_data = samples.sample(100)\n",
    "for i in sampled_data['id']:\n",
    "    D_Kurtis_black.append(i)"
   ]
  },
  {
   "cell_type": "code",
   "execution_count": 12,
   "id": "0ae3927b",
   "metadata": {},
   "outputs": [],
   "source": [
    "D_Kurtis_aline=[]\n",
    "samples = df[(df['Category'] == 'Kurtis') & (df['attr_2'] == 'a-line')]\n",
    "sampled_data = samples.sample(100)\n",
    "for i in sampled_data['id']:\n",
    "    D_Kurtis_aline.append(i)"
   ]
  },
  {
   "cell_type": "code",
   "execution_count": 13,
   "id": "f41e33d0",
   "metadata": {},
   "outputs": [],
   "source": [
    "D_Men_white=[]\n",
    "samples = df[(df['Category'] == 'Men Tshirts') & (df['attr_1'] == 'white')]\n",
    "sampled_data = samples.sample(100)\n",
    "for i in sampled_data['id']:\n",
    "    D_Men_white.append(i)"
   ]
  },
  {
   "cell_type": "code",
   "execution_count": 14,
   "id": "8058f09e",
   "metadata": {},
   "outputs": [],
   "source": [
    "D_Men_polo=[]\n",
    "samples = df[(df['Category'] == 'Men Tshirts') & (df['attr_2'] == 'polo')]\n",
    "sampled_data = samples.sample(100)\n",
    "for i in sampled_data['id']:\n",
    "    D_Men_polo.append(i)"
   ]
  },
  {
   "cell_type": "code",
   "execution_count": 15,
   "id": "bd18a56a",
   "metadata": {},
   "outputs": [],
   "source": [
    "D_Sarees_solid = []\n",
    "samples = df[(df['Category'] == 'Sarees') & (df['attr_1'] == 'solid')]\n",
    "sampled_data = samples.sample(100)\n",
    "for i in sampled_data['id']:\n",
    "    D_Sarees_solid.append(i)"
   ]
  },
  {
   "cell_type": "code",
   "execution_count": 16,
   "id": "6e9737fc",
   "metadata": {},
   "outputs": [],
   "source": [
    "D_Sarees_zari=[]\n",
    "samples = df[(df['Category'] == 'Sarees') & (df['attr_2'] == 'zari')]\n",
    "sampled_data = samples.sample(100)\n",
    "for i in sampled_data['id']:\n",
    "    D_Sarees_zari.append(i)"
   ]
  },
  {
   "cell_type": "code",
   "execution_count": 17,
   "id": "63522d8f",
   "metadata": {},
   "outputs": [],
   "source": [
    "D_WTS_maroon=[]\n",
    "samples = df[(df['Category'] == 'Women Tshirts') & (df['attr_1'] == 'maroon')]\n",
    "sampled_data = samples.sample(100)\n",
    "for i in sampled_data['id']:\n",
    "    D_WTS_maroon.append(i)"
   ]
  },
  {
   "cell_type": "code",
   "execution_count": 18,
   "id": "084dd4d8",
   "metadata": {},
   "outputs": [],
   "source": [
    "D_WTS_loose=[]\n",
    "samples = df[(df['Category'] == 'Women Tshirts') & (df['attr_2'] == 'loose')]\n",
    "sampled_data = samples.sample(100)\n",
    "for i in sampled_data['id']:\n",
    "    D_WTS_loose.append(i)"
   ]
  },
  {
   "cell_type": "code",
   "execution_count": 19,
   "id": "08858c39",
   "metadata": {},
   "outputs": [],
   "source": [
    "D_WTT_blue=[]\n",
    "samples = df[(df['Category'] == 'Women Tops & Tunics') & (df['attr_1'] == 'blue')]\n",
    "sampled_data = samples.sample(100)\n",
    "for i in sampled_data['id']:\n",
    "    D_WTT_blue.append(i)"
   ]
  },
  {
   "cell_type": "code",
   "execution_count": 20,
   "id": "f24c9c14",
   "metadata": {},
   "outputs": [],
   "source": [
    "D_WTT_boxy = []\n",
    "samples = df[(df['Category'] == 'Women Tops & Tunics') & (df['attr_2'] == 'boxy')]\n",
    "sampled_data = samples.sample(100)\n",
    "for i in sampled_data['id']:\n",
    "    D_WTT_boxy.append(i)"
   ]
  },
  {
   "cell_type": "code",
   "execution_count": 24,
   "id": "46550869",
   "metadata": {},
   "outputs": [],
   "source": [
    "src = \"C:/Users/MANOJ/Downloads/train_images\" # Path to the folder containing 70k training images"
   ]
  },
  {
   "cell_type": "code",
   "execution_count": 22,
   "id": "42756240",
   "metadata": {},
   "outputs": [],
   "source": [
    "def copyImage(Id, Category_folder):\n",
    "    os.makedirs(Category_folder, exist_ok=True)\n",
    "    \n",
    "    for i in Id:\n",
    "        image_name = f\"{i:06d}.jpg\"\n",
    "        s = os.path.join(src, image_name)\n",
    "        if os.path.exists(s):\n",
    "            shutil.copy2(s, Category_folder)\n",
    "            "
   ]
  },
  {
   "cell_type": "code",
   "execution_count": 23,
   "id": "c69a0407",
   "metadata": {},
   "outputs": [],
   "source": [
    "# Creating folders and copying the images according to attributes : Creating baskets\n",
    "copyImage(D_Men_polo, 'D_Men_polo')\n",
    "copyImage(D_Men_white, 'D_Men_white')\n",
    "copyImage(D_Kurtis_aline, 'D_Kurtis_aline')\n",
    "copyImage(D_Kurtis_black, 'D_Kurtis_black')\n",
    "copyImage(D_Sarees_solid, 'D_Sarees_solid')\n",
    "copyImage(D_Sarees_zari, 'D_Sarees_zari')\n",
    "copyImage(D_WTS_loose, 'D_WTS_loose')\n",
    "copyImage(D_WTS_maroon, 'D_WTS_maroon')\n",
    "copyImage(D_WTT_blue, 'D_WTT_blue')\n",
    "copyImage(D_WTT_boxy, 'D_WTT_boxy')"
   ]
  },
  {
   "cell_type": "code",
   "execution_count": null,
   "id": "6b0b8f12",
   "metadata": {},
   "outputs": [],
   "source": []
  },
  {
   "cell_type": "code",
   "execution_count": null,
   "id": "7f441d84",
   "metadata": {},
   "outputs": [],
   "source": []
  }
 ],
 "metadata": {
  "kernelspec": {
   "display_name": "Python 3 (ipykernel)",
   "language": "python",
   "name": "python3"
  },
  "language_info": {
   "codemirror_mode": {
    "name": "ipython",
    "version": 3
   },
   "file_extension": ".py",
   "mimetype": "text/x-python",
   "name": "python",
   "nbconvert_exporter": "python",
   "pygments_lexer": "ipython3",
   "version": "3.10.11"
  }
 },
 "nbformat": 4,
 "nbformat_minor": 5
}
